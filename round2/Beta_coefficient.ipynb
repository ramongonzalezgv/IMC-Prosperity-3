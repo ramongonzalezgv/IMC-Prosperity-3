{
 "cells": [
  {
   "cell_type": "code",
   "execution_count": 1,
   "metadata": {},
   "outputs": [],
   "source": [
    "import numpy as np\n",
    "import pandas as pd"
   ]
  },
  {
   "cell_type": "code",
   "execution_count": 13,
   "metadata": {},
   "outputs": [],
   "source": [
    "df1 = pd.read_csv('prices_round_2_day_-1.csv', sep = ';')\n",
    "df2 = pd.read_csv('prices_round_2_day_0.csv', sep = ';')\n",
    "df3 = pd.read_csv('prices_round_2_day_1.csv', sep = ';')"
   ]
  },
  {
   "cell_type": "code",
   "execution_count": 16,
   "metadata": {},
   "outputs": [],
   "source": [
    "df = pd.concat([df1,df2,df3])\n",
    "df_kelp = df[df['product'] == 'KELP']"
   ]
  },
  {
   "cell_type": "code",
   "execution_count": 18,
   "metadata": {},
   "outputs": [
    {
     "data": {
      "text/plain": [
       "Index(['day', 'timestamp', 'product', 'bid_price_1', 'bid_volume_1',\n",
       "       'bid_price_2', 'bid_volume_2', 'bid_price_3', 'bid_volume_3',\n",
       "       'ask_price_1', 'ask_volume_1', 'ask_price_2', 'ask_volume_2',\n",
       "       'ask_price_3', 'ask_volume_3', 'mid_price', 'profit_and_loss'],\n",
       "      dtype='object')"
      ]
     },
     "execution_count": 18,
     "metadata": {},
     "output_type": "execute_result"
    }
   ],
   "source": [
    "df_kelp.columns"
   ]
  },
  {
   "cell_type": "code",
   "execution_count": 24,
   "metadata": {},
   "outputs": [],
   "source": [
    "serie = df_kelp['mid_price']"
   ]
  },
  {
   "cell_type": "code",
   "execution_count": 25,
   "metadata": {},
   "outputs": [
    {
     "name": "stdout",
     "output_type": "stream",
     "text": [
      "Coeficiente de reversión (beta): 0.9948463196794025\n"
     ]
    },
    {
     "name": "stderr",
     "output_type": "stream",
     "text": [
      "C:\\Users\\Maria\\AppData\\Local\\Temp\\ipykernel_20116\\392937872.py:17: FutureWarning: Series.__getitem__ treating keys as positions is deprecated. In a future version, integer keys will always be treated as labels (consistent with DataFrame behavior). To access a value by position, use `ser.iloc[pos]`\n",
      "  print(\"Coeficiente de reversión (beta):\", modelo.params[1])\n"
     ]
    }
   ],
   "source": [
    "import pandas as pd\n",
    "import statsmodels.api as sm\n",
    "\n",
    "# Supón que tienes una serie de tiempo en una lista o DataFrame\n",
    "\n",
    "# Crear las variables X_t y X_{t-1}\n",
    "X = serie[1:]\n",
    "X_lag = serie.shift(1)[1:]\n",
    "\n",
    "# Agregar constante para la regresión\n",
    "X_lag = sm.add_constant(X_lag)\n",
    "\n",
    "# Ajustar el modelo AR(1)\n",
    "modelo = sm.OLS(X, X_lag).fit()\n",
    "\n",
    "# Ver el coeficiente beta\n",
    "print(\"Coeficiente de reversión (beta):\", modelo.params[1])\n"
   ]
  },
  {
   "cell_type": "code",
   "execution_count": null,
   "metadata": {},
   "outputs": [],
   "source": []
  }
 ],
 "metadata": {
  "kernelspec": {
   "display_name": "Python 3",
   "language": "python",
   "name": "python3"
  },
  "language_info": {
   "codemirror_mode": {
    "name": "ipython",
    "version": 3
   },
   "file_extension": ".py",
   "mimetype": "text/x-python",
   "name": "python",
   "nbconvert_exporter": "python",
   "pygments_lexer": "ipython3",
   "version": "3.13.3"
  }
 },
 "nbformat": 4,
 "nbformat_minor": 2
}
