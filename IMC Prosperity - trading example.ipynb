{
 "cells": [
  {
   "cell_type": "code",
   "execution_count": 23,
   "metadata": {},
   "outputs": [],
   "source": [
    "from datamodel import Listing, OrderDepth, Trade, TradingState\n",
    "from typing import List\n",
    "\n",
    "timestamp = 1000\n",
    "\n",
    "listings = {\n",
    "\t\"PRODUCT1\": Listing(\n",
    "\t\tsymbol=\"PRODUCT1\", \n",
    "\t\tproduct=\"PRODUCT1\", \n",
    "\t\tdenomination= \"SEASHELLS\"\n",
    "\t),\n",
    "\t\"PRODUCT2\": Listing(\n",
    "\t\tsymbol=\"PRODUCT2\", \n",
    "\t\tproduct=\"PRODUCT2\", \n",
    "\t\tdenomination= \"SEASHELLS\"\n",
    "\t),\n",
    "}\n",
    "\n",
    "order_depths = {\n",
    "\t\"PRODUCT1\": OrderDepth(\n",
    "\t\tbuy_orders={10: 7, 9: 5},\n",
    "\t\tsell_orders={11: -4, 12: -8}\n",
    "\t),\n",
    "\t\"PRODUCT2\": OrderDepth(\n",
    "\t\tbuy_orders={142: 3, 141: 5},\n",
    "\t\tsell_orders={144: -5, 145: -8}\n",
    "\t),\t\n",
    "}\n",
    "\n",
    "own_trades = {\n",
    "\t\"PRODUCT1\": [],\n",
    "\t\"PRODUCT2\": []\n",
    "}\n",
    "\n",
    "market_trades = {\n",
    "\t\"PRODUCT1\": [\n",
    "\t\tTrade(\n",
    "\t\t\tsymbol=\"PRODUCT1\",\n",
    "\t\t\tprice=11,\n",
    "\t\t\tquantity=4,\n",
    "\t\t\tbuyer=\"\",\n",
    "\t\t\tseller=\"\",\n",
    "\t\t\ttimestamp=900\n",
    "\t\t)\n",
    "\t],\n",
    "\t\"PRODUCT2\": []\n",
    "}\n",
    "\n",
    "position = {\n",
    "\t\"PRODUCT1\": 3,\n",
    "\t\"PRODUCT2\": -5\n",
    "}\n",
    "\n",
    "observations = {}\n",
    "traderData = \"\"\n",
    "\n",
    "state = TradingState(\n",
    "\ttraderData,\n",
    "\ttimestamp,\n",
    "  \tlistings,\n",
    "\torder_depths,\n",
    "\town_trades,\n",
    "\tmarket_trades,\n",
    "\tposition,\n",
    "\tobservations\n",
    ")"
   ]
  },
  {
   "cell_type": "code",
   "execution_count": 24,
   "metadata": {},
   "outputs": [],
   "source": [
    "from datamodel import OrderDepth, UserId, TradingState, Order\n",
    "from typing import List\n",
    "import string\n",
    "\n",
    "class Trader:\n",
    "    \n",
    "    def run(self, state: TradingState):\n",
    "        print(\"traderData: \" + state.traderData)\n",
    "        print(\"Observations: \" + str(state.observations))\n",
    "\n",
    "\t\t\t\t# Orders to be placed on exchange matching engine\n",
    "        result = {}\n",
    "        for product in state.order_depths:\n",
    "            print(f\"\\n{product}\")\n",
    "            order_depth: OrderDepth = state.order_depths[product]\n",
    "            orders: List[Order] = []\n",
    "            print(f\"orders beginning: {orders} \")\n",
    "\n",
    "            acceptable_price = 10  # Participant should calculate this value\n",
    "            print(\"Acceptable price : \" + str(acceptable_price))\n",
    "            print(\"Buy Order depth : \" + str(len(order_depth.buy_orders)) + \", Sell order depth : \" + str(len(order_depth.sell_orders)))\n",
    "    \n",
    "            if len(order_depth.sell_orders) != 0:\n",
    "                best_ask, best_ask_amount = list(order_depth.sell_orders.items())[0]\n",
    "                print(f\"Best ask: {best_ask}, Best amount: {best_ask_amount}\")\n",
    "\n",
    "                if int(best_ask) < acceptable_price:\n",
    "                    print(\"BUY\", str(-best_ask_amount) + \"x\", best_ask)\n",
    "                    orders.append(Order(product, best_ask, -best_ask_amount))\n",
    "    \n",
    "            if len(order_depth.buy_orders) != 0:\n",
    "                best_bid, best_bid_amount = list(order_depth.buy_orders.items())[0]\n",
    "                print(f\"Best bid: {best_bid}, Best amount: {best_bid_amount}\")\n",
    "\n",
    "                if int(best_bid) > acceptable_price:\n",
    "                    print(\"SELL\", str(best_bid_amount) + \"x\", best_bid)\n",
    "                    orders.append(Order(product, best_bid, -best_bid_amount))\n",
    "                    \n",
    "            print(f\"orders end: {orders} \")\n",
    "            result[product] = orders\n",
    "    \n",
    "\t\t    # String value holding Trader state data required. \n",
    "\t\t\t\t# It will be delivered as TradingState.traderData on next execution.\n",
    "        traderData = \"SAMPLE\" \n",
    "        \n",
    "\t\t\t\t# Sample conversion request. Check more details below. \n",
    "        conversions = 1\n",
    "        return result, conversions, traderData"
   ]
  },
  {
   "cell_type": "code",
   "execution_count": 25,
   "metadata": {},
   "outputs": [
    {
     "name": "stdout",
     "output_type": "stream",
     "text": [
      "traderData: \n",
      "Observations: {}\n",
      "\n",
      "PRODUCT1\n",
      "orders beginning: [] \n",
      "Acceptable price : 10\n",
      "Buy Order depth : 2, Sell order depth : 2\n",
      "Best ask: 11, Best amount: -4\n",
      "Best bid: 10, Best amount: 7\n",
      "orders end: [] \n",
      "\n",
      "PRODUCT2\n",
      "orders beginning: [] \n",
      "Acceptable price : 10\n",
      "Buy Order depth : 2, Sell order depth : 2\n",
      "Best ask: 144, Best amount: -5\n",
      "Best bid: 142, Best amount: 3\n",
      "SELL 3x 142\n",
      "orders end: [(PRODUCT2, 142, -3)] \n"
     ]
    }
   ],
   "source": [
    "result, conversions, traderData = Trader().run(state)"
   ]
  },
  {
   "cell_type": "code",
   "execution_count": 48,
   "metadata": {},
   "outputs": [
    {
     "data": {
      "text/plain": [
       "{'PRODUCT1': [], 'PRODUCT2': [(PRODUCT2, 142, -3)]}"
      ]
     },
     "execution_count": 48,
     "metadata": {},
     "output_type": "execute_result"
    }
   ],
   "source": [
    "result"
   ]
  },
  {
   "cell_type": "code",
   "execution_count": 49,
   "metadata": {},
   "outputs": [
    {
     "data": {
      "text/plain": [
       "1"
      ]
     },
     "execution_count": 49,
     "metadata": {},
     "output_type": "execute_result"
    }
   ],
   "source": [
    "conversions"
   ]
  },
  {
   "cell_type": "code",
   "execution_count": 50,
   "metadata": {},
   "outputs": [
    {
     "data": {
      "text/plain": [
       "'SAMPLE'"
      ]
     },
     "execution_count": 50,
     "metadata": {},
     "output_type": "execute_result"
    }
   ],
   "source": [
    "traderData"
   ]
  },
  {
   "cell_type": "code",
   "execution_count": 51,
   "metadata": {},
   "outputs": [],
   "source": [
    "result[\"PRODUCT1\"] = [Order(\"PRODUCT1\", 12, 7)]\n",
    "result[\"PRODUCT2\"] = [Order(\"PRODUCT2\", 143, -5)]"
   ]
  },
  {
   "cell_type": "code",
   "execution_count": 52,
   "metadata": {},
   "outputs": [
    {
     "data": {
      "text/plain": [
       "{'PRODUCT1': [(PRODUCT1, 12, 7)], 'PRODUCT2': [(PRODUCT2, 143, -5)]}"
      ]
     },
     "execution_count": 52,
     "metadata": {},
     "output_type": "execute_result"
    }
   ],
   "source": [
    "result"
   ]
  },
  {
   "cell_type": "code",
   "execution_count": 53,
   "metadata": {},
   "outputs": [],
   "source": [
    "from datamodel import Listing, OrderDepth, Trade, TradingState\n",
    "\n",
    "timestamp = 1100\n",
    "\n",
    "listings = {\n",
    "\t\"PRODUCT1\": Listing(\n",
    "\t\tsymbol=\"PRODUCT1\", \n",
    "\t\tproduct=\"PRODUCT1\", \n",
    "\t\tdenomination = \"SEASHELLS\"\n",
    "\t),\n",
    "\t\"PRODUCT2\": Listing(\n",
    "\t\tsymbol=\"PRODUCT2\", \n",
    "\t\tproduct=\"PRODUCT2\", \n",
    "\t\tdenomination = \"SEASHELLS\"\n",
    "\t),\n",
    "}\n",
    "\n",
    "order_depths = {\n",
    "\t\"PRODUCT1\": OrderDepth(\n",
    "\t\tbuy_orders={10: 7, 9: 5},\n",
    "\t\tsell_orders={12: -5, 13: -3}\n",
    "\t),\n",
    "\t\"PRODUCT2\": OrderDepth(\n",
    "\t\tbuy_orders={142: 3, 141: 5},\n",
    "\t\tsell_orders={144: -5, 145: -8}\n",
    "\t),\t\n",
    "}\n",
    "\n",
    "own_trades = {\n",
    "\t\"PRODUCT1\": [\n",
    "\t\tTrade(\n",
    "\t\t\tsymbol=\"PRODUCT1\",\n",
    "\t\t\tprice=11,\n",
    "\t\t\tquantity=4,\n",
    "\t\t\tbuyer=\"SUBMISSION\",\n",
    "\t\t\tseller=\"\",\n",
    "\t\t\ttimestamp=1000\n",
    "\t\t),\n",
    "\t\tTrade(\n",
    "\t\t\tsymbol=\"PRODUCT1\",\n",
    "\t\t\tprice=12,\n",
    "\t\t\tquantity=3,\n",
    "\t\t\tbuyer=\"SUBMISSION\",\n",
    "\t\t\tseller=\"\",\n",
    "\t\t\ttimestamp=1000\n",
    "\t\t)\n",
    "\t],\n",
    "\t\"PRODUCT2\": [\n",
    "\t\tTrade(\n",
    "\t\t\tsymbol=\"PRODUCT2\",\n",
    "\t\t\tprice=143,\n",
    "\t\t\tquantity=2,\n",
    "\t\t\tbuyer=\"\",\n",
    "\t\t\tseller=\"SUBMISSION\",\n",
    "\t\t\ttimestamp=1000\n",
    "\t\t),\n",
    "\t]\n",
    "}\n",
    "\n",
    "market_trades = {\n",
    "\t\"PRODUCT1\": [],\n",
    "\t\"PRODUCT2\": []\n",
    "}\n",
    "\n",
    "position = {\n",
    "\t\"PRODUCT1\": 10,\n",
    "\t\"PRODUCT2\": -7\n",
    "}\n",
    "\n",
    "observations = {}\n",
    "traderData = \"\"\n",
    "\n",
    "state = TradingState(\n",
    "\ttraderData,\n",
    "\ttimestamp,\n",
    "  \tlistings,\n",
    "\torder_depths,\n",
    "\town_trades,\n",
    "\tmarket_trades,\n",
    "\tposition,\n",
    "\tobservations\n",
    ")"
   ]
  },
  {
   "cell_type": "code",
   "execution_count": 54,
   "metadata": {},
   "outputs": [
    {
     "name": "stdout",
     "output_type": "stream",
     "text": [
      "traderData: \n",
      "Observations: {}\n",
      "Acceptable price : 10\n",
      "Buy Order depth : 2, Sell order depth : 2\n",
      "Acceptable price : 10\n",
      "Buy Order depth : 2, Sell order depth : 2\n",
      "SELL 3x 142\n"
     ]
    }
   ],
   "source": [
    "result, conversions, traderData = Trader().run(state)"
   ]
  },
  {
   "cell_type": "code",
   "execution_count": 55,
   "metadata": {},
   "outputs": [
    {
     "data": {
      "text/plain": [
       "{'PRODUCT1': [], 'PRODUCT2': [(PRODUCT2, 142, -3)]}"
      ]
     },
     "execution_count": 55,
     "metadata": {},
     "output_type": "execute_result"
    }
   ],
   "source": [
    "result"
   ]
  },
  {
   "cell_type": "code",
   "execution_count": null,
   "metadata": {},
   "outputs": [],
   "source": []
  }
 ],
 "metadata": {
  "kernelspec": {
   "display_name": "base",
   "language": "python",
   "name": "python3"
  },
  "language_info": {
   "codemirror_mode": {
    "name": "ipython",
    "version": 3
   },
   "file_extension": ".py",
   "mimetype": "text/x-python",
   "name": "python",
   "nbconvert_exporter": "python",
   "pygments_lexer": "ipython3",
   "version": "3.10.10"
  }
 },
 "nbformat": 4,
 "nbformat_minor": 2
}
