{
 "cells": [
  {
   "cell_type": "markdown",
   "metadata": {},
   "source": [
    "# Manual trading round 3: Floppers bidding"
   ]
  },
  {
   "cell_type": "markdown",
   "metadata": {},
   "source": [
    "a) First bid: against the machine"
   ]
  },
  {
   "cell_type": "markdown",
   "metadata": {},
   "source": [
    "$$ \\displaystyle\n",
    "x = reserve \\\\\n",
    "\\mathbb{E}[\\text{Profit}(x)] = \\int_{\\mathbb{R}}\\text{Profit(x)}\\cdot \\text{f(x)}dx = \\int_{\\mathbb{R}}(320-b)\\cdot u(b-x)f(x)dx=\\\\ \\\\\n",
    "= \\int_{160}^{200}\\frac{1}{110}(320-b)u(b-x)dx + \\int_{250}^{320}\\frac{1}{110}(320-b)u(b-x)dx \\\\=\\frac{320-b}{110}[\\int_{160}^{200}u(b-x)dx + \\int_{250}^{320}u(b-x)dx] \\\\\n",
    "\n",
    "$$\n"
   ]
  },
  {
   "cell_type": "markdown",
   "metadata": {},
   "source": [
    "\n",
    "Caso 1:  $b\\geq 250$\n",
    "$$\n",
    "\\mathbb{E}[\\text{Profit}(x)]  = \\frac{320-b}{110}[\\int_{160}^{200}u(b-x)dx + \\int_{250}^{b}u(b-x)dx] = \\\\\n",
    "= \\frac{320-b}{110}[40+ b-250] = \\frac{320-b}{110}[b-210]\n",
    "\n",
    "$$"
   ]
  },
  {
   "cell_type": "markdown",
   "metadata": {},
   "source": [
    "Now we maximize the profit's expected value in terms of b:"
   ]
  },
  {
   "cell_type": "markdown",
   "metadata": {},
   "source": [
    "$$\n",
    "\\frac{\\partial \\mathbb{E}[\\text{Profit}(x)]}{\\partial{b}} = \\frac{265-b}{55} = 0\\Leftrightarrow b = 265 \n",
    "$$"
   ]
  },
  {
   "cell_type": "markdown",
   "metadata": {},
   "source": [
    "We can easily see that it is a local maximum"
   ]
  },
  {
   "cell_type": "markdown",
   "metadata": {},
   "source": [
    "Caso 2: $b\\leq 200$\n",
    "$$\n",
    "\\mathbb{E}[\\text{Profit}(x)]  =\\frac{320-b}{110}[\\int_{160}^{b}u(b-x)dx + \\cancel{\\int_{250}^{320}u(b-x)dx}] =\\\\\n",
    "= \\frac{320-b}{110}[b-160]\n",
    "$$"
   ]
  },
  {
   "cell_type": "markdown",
   "metadata": {},
   "source": [
    "Now we maximize the profit's expected value in terms of b:"
   ]
  },
  {
   "cell_type": "markdown",
   "metadata": {},
   "source": [
    "$$\n",
    "\\frac{\\partial \\mathbb{E}[\\text{Profit}(x)]}{\\partial{b}} = \\frac{240-b}{55} = 0\\Leftrightarrow b = 240 \n",
    "$$\n"
   ]
  },
  {
   "cell_type": "markdown",
   "metadata": {},
   "source": [
    "Which is out of scope. Hence, we will take the absolut maximum of the interval, which is $b=200$.\n",
    "\n",
    "Now we have just got to compare the expected value of both maximums to decide our bid:\n",
    "\n",
    "$$\n",
    "\\mathbb{E}[\\text{Profit}](b=265) = \\frac{55}{2}  \\\\\n",
    "\\mathbb{E}[\\text{Profit}](b=200) \\approx 43.63\n",
    "$$\n",
    "\n"
   ]
  },
  {
   "cell_type": "markdown",
   "metadata": {},
   "source": [
    "Solution is 200"
   ]
  },
  {
   "cell_type": "markdown",
   "metadata": {},
   "source": [
    "b) First bid: against the people"
   ]
  },
  {
   "cell_type": "markdown",
   "metadata": {},
   "source": [
    "First we calculate what the optimal bid every player should place is:"
   ]
  },
  {
   "cell_type": "markdown",
   "metadata": {},
   "source": [
    "$$ \n",
    "x = reserve, \\quad x\\geq250 \\\\\n",
    "\\mathbb{E}[\\text{Profit}(x)] = \\int_{250}^{\\infty}\\text{Profit(x)}\\cdot \\text{f(x)}dx = \\\\=\\frac{320-b}{70}\\int_{250}^{b}1dx = \\frac{320-b}{70}(b-250) \\\\\n",
    "\n",
    "$$\n"
   ]
  },
  {
   "cell_type": "markdown",
   "metadata": {},
   "source": [
    "We now maximize it:"
   ]
  },
  {
   "cell_type": "markdown",
   "metadata": {},
   "source": [
    "$$\n",
    "\\frac{\\partial \\mathbb{E}[\\text{Profit}(x)]}{\\partial{b}} = \\frac{57}{7}-\\frac{b}{35} = 0\\Leftrightarrow b = 285\n",
    "$$"
   ]
  },
  {
   "cell_type": "markdown",
   "metadata": {},
   "source": [
    "Which is the maximum value in the interval $[250,320]$. \n",
    "\n",
    "However, we belive players will probably stablish quite a more agressive strategy, hence, making the average price be above 285. For that reason, we will obtain the most resilient value of the bid when average value is $b+\\delta$, with $\\delta$ taking values up to 4 units (which means a profit discount of approximately 11% over the optimal play)."
   ]
  },
  {
   "cell_type": "code",
   "execution_count": 132,
   "metadata": {},
   "outputs": [],
   "source": [
    "import numpy as np  ## Modify the values of the meshgrid to see how the optimal value changes !!!!!!\n",
    "delta = np.linspace(0,9,9)\n",
    "b = np.linspace(285,295,9)"
   ]
  },
  {
   "cell_type": "markdown",
   "metadata": {},
   "source": [
    "We will know calculate what is the most resilient value of $b\\in[285,290]$ across all the values of delta. \n",
    "\n",
    "For values of $b_2$ over the average price, the adjusted profit is:\n",
    "\n",
    "$$\n",
    "\\mathbb{E}[\\text{Profit}(x)] = \\frac{b_2-250}{70}\\frac{(320- \\text{average price})^3}{(320- b_2)^2}\n",
    "$$\n",
    "\n",
    "And otherwise the expected profit is:\n",
    "\n",
    "$$\n",
    "\\mathbb{E}[\\text{Profit}(x)] = \\frac{320-b_2}{70}(b_2-250)\n",
    "$$"
   ]
  },
  {
   "cell_type": "code",
   "execution_count": 133,
   "metadata": {},
   "outputs": [],
   "source": [
    "# Create the meshgrid\n",
    "B, D = np.meshgrid(b, delta)\n",
    "Z = np.where(B < 285+D, (B-250)/70*(320-(285+D))**3/(320-B)**2, (320-B)/70*(B-250))"
   ]
  },
  {
   "cell_type": "code",
   "execution_count": 134,
   "metadata": {},
   "outputs": [
    {
     "data": {
      "image/png": "[encoded data removed]",
      "text/plain": [
       "<Figure size 640x480 with 2 Axes>"
      ]
     },
     "metadata": {},
     "output_type": "display_data"
    }
   ],
   "source": [
    "import matplotlib.pyplot as plt\n",
    "\n",
    "plt.contourf(B, D, Z, cmap='coolwarm')\n",
    "plt.colorbar(label='Expected profit(b, delta)')\n",
    "plt.xlabel('b')\n",
    "plt.ylabel('delta')\n",
    "plt.title('Expected profit(b, delta)')\n",
    "plt.show()\n"
   ]
  },
  {
   "cell_type": "code",
   "execution_count": null,
   "metadata": {},
   "outputs": [
    {
     "data": {
      "text/plain": [
       "Text(0, 0.5, 'Expected profit')"
      ]
     },
     "execution_count": 135,
     "metadata": {},
     "output_type": "execute_result"
    }
   ],
   "source": [
    "Z_mean = np.mean(Z, axis=0)  \n",
    "Z_delta0 = Z[0, :]  \n",
    "Z_ultimo_delta = Z[-1, :]\n",
    "plt.scatter(b,Z_mean, color = 'black', label = 'EP across delta')\n",
    "plt.scatter(b,Z_delta0, color = 'blue', label = 'EP for delta = 0')\n",
    "plt.scatter(b,Z_ultimo_delta , color = 'red', label = 'EP for max delta')\n",
    "plt.xlabel('b')\n",
    "plt.legend()\n",
    "plt.ylabel('Expected profit')"
   ]
  },
  {
   "cell_type": "code",
   "execution_count": null,
   "metadata": {},
   "outputs": [
    {
     "data": {
      "text/plain": [
       "Text(0.5, 0, 'bid')"
      ]
     },
     "execution_count": 129,
     "metadata": {},
     "output_type": "execute_result"
    },
    {
     "data": {
      "image/png": "[encoded data removed]",
      "text/plain": [
       "<Figure size 640x480 with 1 Axes>"
      ]
     },
     "metadata": {},
     "output_type": "display_data"
    }
   ],
   "source": [
    "Z_loss = abs((1-Z_delta0/Z_delta0[0])*100)\n",
    "plt.scatter(b,Z_loss,color = 'black')\n",
    "plt.ylabel('Profit discount from optimal (%)')\n",
    "plt.xlabel('bid')"
   ]
  },
  {
   "cell_type": "markdown",
   "metadata": {},
   "source": [
    "Wee see the optimal value significantly varies when the values of the grid are modified, but the difference in profit margin does not. Hence, being conservative when choosing the bid is highly incentived. If we chose a second bid of 295, we would be missing +8% profit from the optimal solution (285)."
   ]
  }
 ],
 "metadata": {
  "kernelspec": {
   "display_name": "Python 3",
   "language": "python",
   "name": "python3"
  },
  "language_info": {
   "codemirror_mode": {
    "name": "ipython",
    "version": 3
   },
   "file_extension": ".py",
   "mimetype": "text/x-python",
   "name": "python",
   "nbconvert_exporter": "python",
   "pygments_lexer": "ipython3",
   "version": "3.13.3"
  }
 },
 "nbformat": 4,
 "nbformat_minor": 2
}
