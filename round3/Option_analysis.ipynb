{
 "cells": [
  {
   "cell_type": "code",
   "execution_count": 20,
   "id": "59d619f8",
   "metadata": {},
   "outputs": [],
   "source": [
    "import pandas as pd\n",
    "import numpy as np\n",
    "from round_3_trader import BS_CALL, implied_volatility, delta\n",
    "from round_3_trader import Trader\n",
    "\n",
    "from datamodel import Listing, Observation, Order, OrderDepth, ProsperityEncoder, Symbol, Trade, TradingState\n",
    "from typing import List, Any\n",
    "import string\n",
    "import jsonpickle\n",
    "import numpy as np\n",
    "from statistics import NormalDist\n",
    "import math\n",
    "import json"
   ]
  },
  {
   "cell_type": "code",
   "execution_count": 21,
   "id": "32b3e695",
   "metadata": {},
   "outputs": [],
   "source": [
    "class Product:\n",
    "    RAINFOREST_RESIN = \"RAINFOREST_RESIN\"\n",
    "    KELP = \"KELP\"\n",
    "    SQUID_INK = \"SQUID_INK\"\n",
    "    CROISSANTS = \"CROISSANTS\"\n",
    "    JAMS = \"JAMS\"\n",
    "    DJEMBES = \"DJEMBES\"\n",
    "    PICNIC_BASKET1 = \"PICNIC_BASKET1\"\n",
    "    ARTIFICIAL_PICNIC_BASKET1 = \"ARTIFICIAL_PICNIC_BASKET1\"\n",
    "    PICNIC_BASKET2 = \"PICNIC_BASKET2\"\n",
    "    SPREAD1 = \"SPREAD1\"\n",
    "    VOLCANIC_ROCK = \"VOLCANIC_ROCK\"\n",
    "    VOLCANIC_ROCK_VOUCHER_9500 = \"VOLCANIC_ROCK_VOUCHER_9500\"\n",
    "    VOLCANIC_ROCK_VOUCHER_9750 = \"VOLCANIC_ROCK_VOUCHER_9750\"\n",
    "    VOLCANIC_ROCK_VOUCHER_10000 = \"VOLCANIC_ROCK_VOUCHER_10000\"\n",
    "    VOLCANIC_ROCK_VOUCHER_10250 = \"VOLCANIC_ROCK_VOUCHER_10250\"\n",
    "    VOLCANIC_ROCK_VOUCHER_10500 = \"VOLCANIC_ROCK_VOUCHER_10500\"\n",
    "    \n",
    "\n",
    "\n",
    "\n",
    "BASKETS_PRODUCTS = {\n",
    "    Product.PICNIC_BASKET1: \n",
    "    {\n",
    "        Product.CROISSANTS : 6,\n",
    "        Product.JAMS : 3,\n",
    "        Product.DJEMBES : 1\n",
    "    },\n",
    "    Product.PICNIC_BASKET2:\n",
    "    {\n",
    "        Product.CROISSANTS : 4,\n",
    "        Product.JAMS : 2\n",
    "    }\n",
    "}\n",
    "\n",
    "BASKET1_PRODS = {\n",
    "    Product.CROISSANTS : 6,\n",
    "    Product.JAMS : 3,\n",
    "    Product.DJEMBES : 1\n",
    "}\n",
    "\n",
    "BASKET2_PRODS = {\n",
    "    Product.CROISSANTS : 4,\n",
    "    Product.JAMS : 2\n",
    "}\n",
    "\n",
    "\n",
    "PARAMS = {\n",
    "    Product.RAINFOREST_RESIN: {\n",
    "        \"fair_value\": 10000,\n",
    "        \"take_width\": 1,\n",
    "        \"clear_width\": 0,\n",
    "        # for making\n",
    "        \"disregard_edge\": 1,  # disregards orders for joining or pennying within this value from fair\n",
    "        \"join_edge\": 2,  # joins orders within this edge\n",
    "        \"default_edge\": 4,\n",
    "        \"soft_position_limit\": 25,\n",
    "    },\n",
    "    Product.KELP: {\n",
    "        \"take_width\": 1,\n",
    "        \"clear_width\": -0.25,\n",
    "        \"prevent_adverse\": False,\n",
    "        \"adverse_volume\": 15,\n",
    "        \"reversion_beta\": 25,\n",
    "        \"disregard_edge\": 1,\n",
    "        \"join_edge\": 0,\n",
    "        \"default_edge\": 1,\n",
    "    },\n",
    "    Product.SQUID_INK: {\n",
    "        \"take_width\": 1,\n",
    "        \"clear_width\": -0.25,\n",
    "        \"prevent_adverse\": False,\n",
    "        \"adverse_volume\": 15,\n",
    "        \"reversion_beta\": -0.229,\n",
    "        \"disregard_edge\": 1,\n",
    "        \"join_edge\": 0,\n",
    "        \"default_edge\": 1,\n",
    "    },\n",
    "    Product.SPREAD1:{\n",
    "        \"spread_mean\": 48.762433333333334,\n",
    "        \"starting_its\": 30000,\n",
    "        \"spread_std_window\": 25,\n",
    "        \"zscore_threshold\": 11,\n",
    "        \"target_position\": 60,\n",
    "    },\n",
    "    Product.VOLCANIC_ROCK_VOUCHER_9500: {\n",
    "        \"mean_volatility\": 0.45,\n",
    "        \"threshold\": 0.00163,\n",
    "        \"strike\": 9500,\n",
    "        \"time to maturity\": 5 / 250,\n",
    "        \"std_window\": 30,\n",
    "        \"zscore_threshold\": 5.1\n",
    "    },\n",
    "     Product.VOLCANIC_ROCK_VOUCHER_9750: {\n",
    "        \"mean_volatility\": 0.15959997370608378,\n",
    "        \"threshold\": 0.00163,\n",
    "        \"strike\": 9750,\n",
    "        \"time to maturity\": 5 / 250,\n",
    "        \"std_window\": 30,\n",
    "        \"zscore_threshold\": 5.1\n",
    "    },\n",
    "     Product.VOLCANIC_ROCK_VOUCHER_10000: {\n",
    "        \"mean_volatility\": 0.18,\n",
    "        \"threshold\": 0.00163,\n",
    "        \"strike\": 10000,\n",
    "        \"time to maturity\": 5 / 250,\n",
    "        \"std_window\": 30,\n",
    "        \"zscore_threshold\": 5.1\n",
    "    },\n",
    "     Product.VOLCANIC_ROCK_VOUCHER_10250: {\n",
    "        \"mean_volatility\": 0.15959997370608378,\n",
    "        \"threshold\": 0.00163,\n",
    "        \"strike\": 10250,\n",
    "        \"time to maturity\": 5 / 250,\n",
    "        \"std_window\": 30,\n",
    "        \"zscore_threshold\": 5.1\n",
    "    },\n",
    "     Product.VOLCANIC_ROCK_VOUCHER_10500: {\n",
    "        \"mean_volatility\": 0.15959997370608378,\n",
    "        \"threshold\": 0.00163,\n",
    "        \"strike\": 10500,\n",
    "        \"time to maturity\": 5 / 250,\n",
    "        \"std_window\": 30,\n",
    "        \"zscore_threshold\": 5.1\n",
    "    },\n",
    "}\n",
    "\n",
    "Trader1 = Trader()"
   ]
  },
  {
   "cell_type": "code",
   "execution_count": 22,
   "id": "1762766d",
   "metadata": {},
   "outputs": [],
   "source": [
    "order_depths = {\n",
    "\t\"VOLCANIC_ROCK\": OrderDepth(\n",
    "\t\tbuy_orders={10502: 205},\n",
    "\t\tsell_orders={10504: -146, 10505: -59}\n",
    "\t),\n",
    "    \"VOLCANIC_ROCK_VOUCHER_9500\": OrderDepth(\n",
    "\t\tbuy_orders={142: 3, 141: 5},\n",
    "\t\tsell_orders={144: -5, 145: -8}\n",
    "\t),\n",
    "    \"VOLCANIC_ROCK_VOUCHER_9750\": OrderDepth(\n",
    "\t\tbuy_orders={142: 3, 141: 5},\n",
    "\t\tsell_orders={144: -5, 145: -8}\n",
    "\t),\n",
    "    \"VOLCANIC_ROCK_VOUCHER_10000\": OrderDepth(\n",
    "\t\tbuy_orders={505: -19},\n",
    "\t\tsell_orders={506: -19}\n",
    "\t),\n",
    "\t\"VOLCANIC_ROCK_VOUCHER_10250\": OrderDepth(\n",
    "\t\tbuy_orders={142: 3, 141: 5},\n",
    "\t\tsell_orders={144: -5, 145: -8}\n",
    "\t),\n",
    "    \"VOLCANIC_ROCK_VOUCHER_10500\": OrderDepth(\n",
    "\t\tbuy_orders={99: 19},\n",
    "\t\tsell_orders={100: -19}\n",
    "\t),\t\n",
    "}"
   ]
  },
  {
   "cell_type": "code",
   "execution_count": 24,
   "id": "2539c2b9",
   "metadata": {},
   "outputs": [
    {
     "data": {
      "text/plain": [
       "[(VOLCANIC_ROCK_VOUCHER_10000, 505, -19)]"
      ]
     },
     "execution_count": 24,
     "metadata": {},
     "output_type": "execute_result"
    }
   ],
   "source": [
    "VOLCANIC_ROCK_VOUCHER_10000_position = 0 \n",
    "option_orders = Trader1.VolcanicRockCoupon_strat(order_depths = order_depths,prod=\"VOLCANIC_ROCK_VOUCHER_10000\",position=0)\n",
    "option_orders"
   ]
  },
  {
   "cell_type": "code",
   "execution_count": 6,
   "id": "9bfa21ac",
   "metadata": {},
   "outputs": [],
   "source": [
    "VOLCANIC_ROCK_position = 0\n",
    "underlying_mid_price = Trader1.get_mid_price(order_depths[Product.VOLCANIC_ROCK])\n",
    "option_mid_price = Trader1.get_mid_price(order_depths[Product.VOLCANIC_ROCK_VOUCHER_10000])"
   ]
  },
  {
   "cell_type": "code",
   "execution_count": 10,
   "id": "493dd4cd",
   "metadata": {},
   "outputs": [
    {
     "name": "stderr",
     "output_type": "stream",
     "text": [
      "c:\\Users\\ramon\\OneDrive\\Desktop\\Python projects\\Trading\\Prosperity 3\\round3\\round_3_trader.py:17: RuntimeWarning: divide by zero encountered in log\n",
      "  d1 = (np.log(S/K) + (r - + 0.5 * sig ** 2) * T) / (sig * np.sqrt(T))\n",
      "c:\\Users\\ramon\\OneDrive\\Desktop\\Python projects\\Trading\\Prosperity 3\\round3\\round_3_trader.py:30: RuntimeWarning: divide by zero encountered in log\n",
      "  d1 = (np.log(S/K) + (r - + 0.5 * sig ** 2) * T) / (sig * np.sqrt(T))\n"
     ]
    }
   ],
   "source": [
    "\n",
    "\n",
    "\n",
    "K = Trader1.params[Product.VOLCANIC_ROCK_VOUCHER_10000]['strike']\n",
    "T = Trader1.params[Product.VOLCANIC_ROCK_VOUCHER_10000]['time to maturity']\n",
    "r = 0\n",
    "\n",
    "volatility = implied_volatility(\n",
    "                option_mid_price,\n",
    "                underlying_mid_price,\n",
    "                Trader1.params[Product.VOLCANIC_ROCK_VOUCHER_10000][\"strike\"],\n",
    "                T,\n",
    "                r\n",
    "            )\n",
    "\n",
    "delta1 = delta(option_mid_price,K,T,r,volatility)"
   ]
  },
  {
   "cell_type": "code",
   "execution_count": 17,
   "id": "80821973",
   "metadata": {},
   "outputs": [
    {
     "data": {
      "text/plain": [
       "-0.0"
      ]
     },
     "execution_count": 17,
     "metadata": {},
     "output_type": "execute_result"
    }
   ],
   "source": [
    "delta1*sum(order.quantity for order in option_orders)"
   ]
  },
  {
   "cell_type": "code",
   "execution_count": 12,
   "id": "c0613f46",
   "metadata": {},
   "outputs": [
    {
     "data": {
      "text/plain": [
       "0.505"
      ]
     },
     "execution_count": 12,
     "metadata": {},
     "output_type": "execute_result"
    }
   ],
   "source": [
    "volatility"
   ]
  },
  {
   "cell_type": "code",
   "execution_count": 18,
   "id": "0f8dd84c",
   "metadata": {},
   "outputs": [],
   "source": [
    "\n",
    "\n",
    "\n",
    "hedge_orders = Trader1.hedge_option_orders(Product.VOLCANIC_ROCK,order_depths,option_orders,VOLCANIC_ROCK_position, VOLCANIC_ROCK_VOUCHER_10000_position,0.6)\n"
   ]
  },
  {
   "cell_type": "code",
   "execution_count": 19,
   "id": "03d73197",
   "metadata": {},
   "outputs": [
    {
     "data": {
      "text/plain": [
       "[(VOLCANIC_ROCK, 10504, 11)]"
      ]
     },
     "execution_count": 19,
     "metadata": {},
     "output_type": "execute_result"
    }
   ],
   "source": [
    "hedge_orders"
   ]
  },
  {
   "cell_type": "code",
   "execution_count": null,
   "id": "ecb8e889",
   "metadata": {},
   "outputs": [],
   "source": []
  },
  {
   "cell_type": "code",
   "execution_count": null,
   "id": "9d42b33b",
   "metadata": {},
   "outputs": [],
   "source": []
  },
  {
   "cell_type": "code",
   "execution_count": 4,
   "id": "3696feb5",
   "metadata": {},
   "outputs": [
    {
     "data": {
      "text/plain": [
       "0.18391421773478217"
      ]
     },
     "execution_count": 4,
     "metadata": {},
     "output_type": "execute_result"
    }
   ],
   "source": [
    "S = 10502\n",
    "K1 = 9500\n",
    "K2 = 9750\n",
    "K3 = 10000\n",
    "K4 = 10250\n",
    "K5 = 10500\n",
    "T = 5/252\n",
    "r = 0\n",
    "\n",
    "V1 = 99.5\n",
    "V3 = 505\n",
    "\n",
    "implied_volatility(V3,S,K3,T,r)"
   ]
  },
  {
   "cell_type": "code",
   "execution_count": null,
   "id": "9d95ee6d",
   "metadata": {},
   "outputs": [],
   "source": []
  }
 ],
 "metadata": {
  "kernelspec": {
   "display_name": "Python 3",
   "language": "python",
   "name": "python3"
  },
  "language_info": {
   "codemirror_mode": {
    "name": "ipython",
    "version": 3
   },
   "file_extension": ".py",
   "mimetype": "text/x-python",
   "name": "python",
   "nbconvert_exporter": "python",
   "pygments_lexer": "ipython3",
   "version": "3.11.1"
  }
 },
 "nbformat": 4,
 "nbformat_minor": 5
}
