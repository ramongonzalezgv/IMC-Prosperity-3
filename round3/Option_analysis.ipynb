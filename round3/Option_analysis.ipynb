{
 "cells": [
  {
   "cell_type": "code",
   "execution_count": 37,
   "id": "59d619f8",
   "metadata": {},
   "outputs": [],
   "source": [
    "import pandas as pd\n",
    "import numpy as np\n",
    "from round_3_trader_v3 import BS_CALL, implied_volatility, delta\n",
    "from round_3_trader_v3 import Trader\n",
    "from collections import defaultdict\n",
    "\n",
    "from datamodel import Listing, Observation, Order, OrderDepth, ProsperityEncoder, Symbol, Trade, TradingState\n",
    "from typing import List, Any\n",
    "import string\n",
    "import jsonpickle\n",
    "import numpy as np\n",
    "from statistics import NormalDist\n",
    "import math\n",
    "import json"
   ]
  },
  {
   "cell_type": "code",
   "execution_count": 38,
   "id": "957ce325",
   "metadata": {},
   "outputs": [],
   "source": [
    "def build_order_depths(df: pd.DataFrame) -> dict:\n",
    "    order_depths = defaultdict(dict)\n",
    "\n",
    "    for _, row in df.iterrows():\n",
    "        timestamp = str(row[\"timestamp\"])\n",
    "        product = row[\"product\"]\n",
    "\n",
    "        # Build buy_orders dictionary\n",
    "        buy_orders = {}\n",
    "        for i in range(1, 4):\n",
    "            price = row.get(f\"bid_price_{i}\")\n",
    "            volume = row.get(f\"bid_volume_{i}\")\n",
    "            if pd.notna(price) and pd.notna(volume):\n",
    "                buy_orders[int(price)] = int(volume)\n",
    "\n",
    "        # Build sell_orders dictionary (volumes should be negative)\n",
    "        sell_orders = {}\n",
    "        for i in range(1, 4):\n",
    "            price = row.get(f\"ask_price_{i}\")\n",
    "            volume = row.get(f\"ask_volume_{i}\")\n",
    "            if pd.notna(price) and pd.notna(volume):\n",
    "                sell_orders[int(price)] = -int(volume)\n",
    "\n",
    "        order_depths[timestamp][product] = OrderDepth(buy_orders, sell_orders)\n",
    "\n",
    "    return dict(order_depths)\n",
    "\n",
    "df = pd.read_csv(r'C:\\Users\\gonzaal\\Desktop\\Personal\\Personal python projects\\Prosperity 3\\round3\\data\\prices_round_3_day_1.csv')\n",
    "\n",
    "# Build the structure\n",
    "order_depths_ALL = build_order_depths(df)\n"
   ]
  },
  {
   "cell_type": "code",
   "execution_count": null,
   "id": "a9076e85",
   "metadata": {},
   "outputs": [],
   "source": [
    "df[df[]]"
   ]
  },
  {
   "cell_type": "code",
   "execution_count": 65,
   "id": "32b3e695",
   "metadata": {},
   "outputs": [],
   "source": [
    "class Product:\n",
    "    RAINFOREST_RESIN = \"RAINFOREST_RESIN\"\n",
    "    KELP = \"KELP\"\n",
    "    SQUID_INK = \"SQUID_INK\"\n",
    "    CROISSANTS = \"CROISSANTS\"\n",
    "    JAMS = \"JAMS\"\n",
    "    DJEMBES = \"DJEMBES\"\n",
    "    PICNIC_BASKET1 = \"PICNIC_BASKET1\"\n",
    "    ARTIFICIAL_PICNIC_BASKET1 = \"ARTIFICIAL_PICNIC_BASKET1\"\n",
    "    PICNIC_BASKET2 = \"PICNIC_BASKET2\"\n",
    "    SPREAD1 = \"SPREAD1\"\n",
    "    VOLCANIC_ROCK = \"VOLCANIC_ROCK\"\n",
    "    VOLCANIC_ROCK_VOUCHER_9500 = \"VOLCANIC_ROCK_VOUCHER_9500\"\n",
    "    VOLCANIC_ROCK_VOUCHER_9750 = \"VOLCANIC_ROCK_VOUCHER_9750\"\n",
    "    VOLCANIC_ROCK_VOUCHER_10000 = \"VOLCANIC_ROCK_VOUCHER_10000\"\n",
    "    VOLCANIC_ROCK_VOUCHER_10250 = \"VOLCANIC_ROCK_VOUCHER_10250\"\n",
    "    VOLCANIC_ROCK_VOUCHER_10500 = \"VOLCANIC_ROCK_VOUCHER_10500\"\n",
    "    \n",
    "\n",
    "\n",
    "\n",
    "BASKETS_PRODUCTS = {\n",
    "    Product.PICNIC_BASKET1: \n",
    "    {\n",
    "        Product.CROISSANTS : 6,\n",
    "        Product.JAMS : 3,\n",
    "        Product.DJEMBES : 1\n",
    "    },\n",
    "    Product.PICNIC_BASKET2:\n",
    "    {\n",
    "        Product.CROISSANTS : 4,\n",
    "        Product.JAMS : 2\n",
    "    }\n",
    "}\n",
    "\n",
    "BASKET1_PRODS = {\n",
    "    Product.CROISSANTS : 6,\n",
    "    Product.JAMS : 3,\n",
    "    Product.DJEMBES : 1\n",
    "}\n",
    "\n",
    "BASKET2_PRODS = {\n",
    "    Product.CROISSANTS : 4,\n",
    "    Product.JAMS : 2\n",
    "}\n",
    "\n",
    "\n",
    "PARAMS = {\n",
    "    Product.RAINFOREST_RESIN: {\n",
    "        \"fair_value\": 10000,\n",
    "        \"take_width\": 1,\n",
    "        \"clear_width\": 0,\n",
    "        # for making\n",
    "        \"disregard_edge\": 1,  # disregards orders for joining or pennying within this value from fair\n",
    "        \"join_edge\": 2,  # joins orders within this edge\n",
    "        \"default_edge\": 4,\n",
    "        \"soft_position_limit\": 25,\n",
    "    },\n",
    "    Product.KELP: {\n",
    "        \"take_width\": 1,\n",
    "        \"clear_width\": -0.25,\n",
    "        \"prevent_adverse\": False,\n",
    "        \"adverse_volume\": 15,\n",
    "        \"reversion_beta\": 25,\n",
    "        \"disregard_edge\": 1,\n",
    "        \"join_edge\": 0,\n",
    "        \"default_edge\": 1,\n",
    "    },\n",
    "    Product.SQUID_INK: {\n",
    "        \"take_width\": 1,\n",
    "        \"clear_width\": -0.25,\n",
    "        \"prevent_adverse\": False,\n",
    "        \"adverse_volume\": 15,\n",
    "        \"reversion_beta\": -0.229,\n",
    "        \"disregard_edge\": 1,\n",
    "        \"join_edge\": 0,\n",
    "        \"default_edge\": 1,\n",
    "    },\n",
    "    Product.SPREAD1:{\n",
    "        \"spread_mean\": 48.762433333333334,\n",
    "        \"starting_its\": 30000,\n",
    "        \"spread_std_window\": 25,\n",
    "        \"zscore_threshold\": 11,\n",
    "        \"target_position\": 60,\n",
    "    },\n",
    "    Product.VOLCANIC_ROCK_VOUCHER_9500: {\n",
    "        \"mean_volatility\": 0.45,\n",
    "        \"threshold\": 0.00163,\n",
    "        \"strike\": 9500,\n",
    "        \"time to maturity\": 5 / 250,\n",
    "        \"std_window\": 30,\n",
    "        \"zscore_threshold\": 5.1\n",
    "    },\n",
    "     Product.VOLCANIC_ROCK_VOUCHER_9750: {\n",
    "        \"mean_volatility\": 0.15959997370608378,\n",
    "        \"threshold\": 0.00163,\n",
    "        \"strike\": 9750,\n",
    "        \"time to maturity\": 5 / 250,\n",
    "        \"std_window\": 30,\n",
    "        \"zscore_threshold\": 5.1\n",
    "    },\n",
    "     Product.VOLCANIC_ROCK_VOUCHER_10000: {\n",
    "        \"mean_volatility\": 0.18,\n",
    "        \"threshold\": 0.00163,\n",
    "        \"strike\": 10000,\n",
    "        \"time to maturity\": 5 / 252,\n",
    "        \"std_window\": 30,\n",
    "        \"zscore_threshold\": 5.1\n",
    "    },\n",
    "     Product.VOLCANIC_ROCK_VOUCHER_10250: {\n",
    "        \"mean_volatility\": 0.15959997370608378,\n",
    "        \"threshold\": 0.00163,\n",
    "        \"strike\": 10250,\n",
    "        \"time to maturity\": 5 / 250,\n",
    "        \"std_window\": 30,\n",
    "        \"zscore_threshold\": 5.1\n",
    "    },\n",
    "     Product.VOLCANIC_ROCK_VOUCHER_10500: {\n",
    "        \"mean_volatility\": 0.15959997370608378,\n",
    "        \"threshold\": 0.00163,\n",
    "        \"strike\": 10500,\n",
    "        \"time to maturity\": 5 / 250,\n",
    "        \"std_window\": 30,\n",
    "        \"zscore_threshold\": 5.1\n",
    "    },\n",
    "}\n",
    "\n",
    "Trader1 = Trader()"
   ]
  },
  {
   "cell_type": "code",
   "execution_count": 66,
   "id": "d5008afd",
   "metadata": {},
   "outputs": [],
   "source": [
    "order_depths = order_depths_ALL['999000']"
   ]
  },
  {
   "cell_type": "code",
   "execution_count": 67,
   "id": "2539c2b9",
   "metadata": {},
   "outputs": [
    {
     "data": {
      "text/plain": [
       "[(VOLCANIC_ROCK_VOUCHER_10250, 63, 21)]"
      ]
     },
     "execution_count": 67,
     "metadata": {},
     "output_type": "execute_result"
    }
   ],
   "source": [
    "opt = Product.VOLCANIC_ROCK_VOUCHER_10250\n",
    "\n",
    "opt_position = 0 \n",
    "option_orders = Trader1.VolcanicRockCoupon_strat(order_depths = order_depths,prod=opt,position=opt_position)\n",
    "option_orders"
   ]
  },
  {
   "cell_type": "code",
   "execution_count": 68,
   "id": "4f0e91a1",
   "metadata": {},
   "outputs": [
    {
     "data": {
      "text/plain": [
       "62.5"
      ]
     },
     "execution_count": 68,
     "metadata": {},
     "output_type": "execute_result"
    }
   ],
   "source": [
    "Trader1.get_mid_price(order_depths[opt])"
   ]
  },
  {
   "cell_type": "code",
   "execution_count": 69,
   "id": "b232ca43",
   "metadata": {},
   "outputs": [
    {
     "data": {
      "text/plain": [
       "10217.0"
      ]
     },
     "execution_count": 69,
     "metadata": {},
     "output_type": "execute_result"
    }
   ],
   "source": [
    "prd = Product.VOLCANIC_ROCK\n",
    "best_bid_price = max(order_depths[prd].buy_orders.keys())\n",
    "best_ask_price = min(order_depths[prd].sell_orders.keys())\n",
    "\n",
    "Trader1.get_mid_price(order_depths[prd])"
   ]
  },
  {
   "cell_type": "code",
   "execution_count": 70,
   "id": "171a34f7",
   "metadata": {},
   "outputs": [
    {
     "data": {
      "text/plain": [
       "62.5"
      ]
     },
     "execution_count": 70,
     "metadata": {},
     "output_type": "execute_result"
    }
   ],
   "source": [
    "\n",
    "best_bid_price = max(order_depths[opt].buy_orders.keys())\n",
    "best_ask_price = min(order_depths[opt].sell_orders.keys())\n",
    "\n",
    "Trader1.get_mid_price(order_depths[opt])"
   ]
  },
  {
   "cell_type": "code",
   "execution_count": 71,
   "id": "9bfa21ac",
   "metadata": {},
   "outputs": [],
   "source": [
    "VOLCANIC_ROCK_position = 0\n",
    "underlying_mid_price = Trader1.get_mid_price(order_depths[prd])\n",
    "option_mid_price = Trader1.get_mid_price(order_depths[opt])"
   ]
  },
  {
   "cell_type": "code",
   "execution_count": 72,
   "id": "59fedab8",
   "metadata": {},
   "outputs": [
    {
     "data": {
      "text/plain": [
       "62.5"
      ]
     },
     "execution_count": 72,
     "metadata": {},
     "output_type": "execute_result"
    }
   ],
   "source": [
    "option_mid_price"
   ]
  },
  {
   "cell_type": "code",
   "execution_count": 73,
   "id": "493dd4cd",
   "metadata": {},
   "outputs": [],
   "source": [
    "K = Trader1.params[opt]['strike']\n",
    "T = Trader1.params[opt]['time to maturity']\n",
    "r = 0\n",
    "\n",
    "\n",
    "volatility = implied_volatility(\n",
    "                option_mid_price,\n",
    "                underlying_mid_price,\n",
    "                Trader1.params[opt][\"strike\"],\n",
    "                T,\n",
    "                r\n",
    "            )\n",
    "\n",
    "delta1 = delta(underlying_mid_price,K,T,r,volatility)"
   ]
  },
  {
   "cell_type": "code",
   "execution_count": 74,
   "id": "043c03aa",
   "metadata": {},
   "outputs": [
    {
     "data": {
      "text/plain": [
       "0.43664555921917003"
      ]
     },
     "execution_count": 74,
     "metadata": {},
     "output_type": "execute_result"
    }
   ],
   "source": [
    "delta1"
   ]
  },
  {
   "cell_type": "code",
   "execution_count": 75,
   "id": "0f8dd84c",
   "metadata": {},
   "outputs": [],
   "source": [
    "\n",
    "hedge_orders = Trader1.hedge_option_orders(Product.VOLCANIC_ROCK,order_depths,option_orders,VOLCANIC_ROCK_position, opt_position,delta1)\n"
   ]
  },
  {
   "cell_type": "code",
   "execution_count": 76,
   "id": "03d73197",
   "metadata": {},
   "outputs": [
    {
     "data": {
      "text/plain": [
       "[(VOLCANIC_ROCK, 10216, -9)]"
      ]
     },
     "execution_count": 76,
     "metadata": {},
     "output_type": "execute_result"
    }
   ],
   "source": [
    "hedge_orders"
   ]
  },
  {
   "cell_type": "code",
   "execution_count": null,
   "id": "ecb8e889",
   "metadata": {},
   "outputs": [],
   "source": []
  },
  {
   "cell_type": "code",
   "execution_count": null,
   "id": "9d42b33b",
   "metadata": {},
   "outputs": [],
   "source": []
  },
  {
   "cell_type": "code",
   "execution_count": 4,
   "id": "3696feb5",
   "metadata": {},
   "outputs": [
    {
     "data": {
      "text/plain": [
       "0.18391421773478217"
      ]
     },
     "execution_count": 4,
     "metadata": {},
     "output_type": "execute_result"
    }
   ],
   "source": [
    "S = 10502\n",
    "K1 = 9500\n",
    "K2 = 9750\n",
    "K3 = 10000\n",
    "K4 = 10250\n",
    "K5 = 10500\n",
    "T = 5/252\n",
    "r = 0\n",
    "\n",
    "V1 = 99.5\n",
    "V3 = 505\n",
    "\n",
    "implied_volatility(V3,S,K3,T,r)"
   ]
  },
  {
   "cell_type": "code",
   "execution_count": null,
   "id": "9d95ee6d",
   "metadata": {},
   "outputs": [],
   "source": []
  }
 ],
 "metadata": {
  "kernelspec": {
   "display_name": "base",
   "language": "python",
   "name": "python3"
  },
  "language_info": {
   "codemirror_mode": {
    "name": "ipython",
    "version": 3
   },
   "file_extension": ".py",
   "mimetype": "text/x-python",
   "name": "python",
   "nbconvert_exporter": "python",
   "pygments_lexer": "ipython3",
   "version": "3.10.10"
  }
 },
 "nbformat": 4,
 "nbformat_minor": 5
}
